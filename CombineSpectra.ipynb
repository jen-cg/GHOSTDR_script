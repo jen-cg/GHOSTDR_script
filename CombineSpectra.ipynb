{
 "cells": [
  {
   "cell_type": "code",
   "execution_count": 105,
   "id": "0a461215",
   "metadata": {},
   "outputs": [],
   "source": [
    "import numpy as np\n",
    "import os \n",
    "import glob\n",
    "from astropy.io import fits\n",
    "import matplotlib.pyplot as plt\n",
    "import itertools\n",
    "import sys\n",
    "\n",
    "%matplotlib notebook\n",
    "\n",
    "# ----------------- Import the other files of functions\n",
    "module_path = os.path.join('/Users/jennifer/Desktop/ASAP')\n",
    "if module_path not in sys.path:\n",
    "    sys.path.append(module_path)\n",
    "    \n",
    "import asap_lib.spectra as sa"
   ]
  },
  {
   "cell_type": "code",
   "execution_count": 106,
   "id": "cf15b37c",
   "metadata": {},
   "outputs": [],
   "source": [
    "path = '../GHOST_ObsData/Sag2_IFU1/output/'\n",
    "spath = path+'Sag2_IFU1'\n",
    "IFU = 0"
   ]
  },
  {
   "cell_type": "code",
   "execution_count": 111,
   "id": "84301f20",
   "metadata": {
    "scrolled": false
   },
   "outputs": [
    {
     "name": "stdout",
     "output_type": "stream",
     "text": [
      "Saved combination of 3 blue camera images\n",
      "No red camera files found\n"
     ]
    }
   ],
   "source": [
    "for camera in ['blue', 'red']:\n",
    "\n",
    "    condition = '*{}*Output.fits'.format(camera)\n",
    "    obs = glob.glob(path+condition)\n",
    "\n",
    "    # --------------------------------\n",
    "    waves = []\n",
    "    fluxes = []\n",
    "    errs = []\n",
    "\n",
    "    for item in obs:\n",
    "        spectra = fits.open(item)\n",
    "\n",
    "        wave = spectra[7].data\n",
    "        flux = spectra[5].data[:,IFU]\n",
    "        err = spectra[6].data[:,IFU]\n",
    "\n",
    "        waves.append(wave)\n",
    "        fluxes.append(flux)\n",
    "        errs.append(err)\n",
    "\n",
    "    # --------------------------------\n",
    "    pairs =  list(itertools.combinations(range(len(waves)), 2))\n",
    "\n",
    "    for pair in pairs:\n",
    "        value = np.array_equal(waves[pair[0]], waves[pair[1]])\n",
    "        if value == False:\n",
    "            print('Wavelength arrays not equivalent. Do not proceed')\n",
    "            break\n",
    "\n",
    "    if len(waves) > 0:\n",
    "        # -------------------------------- Median Combine flux and combine error with Poisson statistics \n",
    "        finalWave = waves[0]\n",
    "        finalFlux = np.median(fluxes,axis=0)\n",
    "        finalErr = np.sqrt( sum(i*i for i in errs) ) / len(errs) \n",
    "\n",
    "\n",
    "        # -------------------------------- Save the output as .xy and .bin files \n",
    "        sa.write2xy(finalWave, finalFlux, finalErr, spath+'_{}'.format(camera))\n",
    "        sa.write2bin(finalWave, finalFlux, finalErr, spath+'_{}'.format(camera))\n",
    "\n",
    "        print('Saved combination of {} {} camera images'.format(len(waves), camera))\n",
    "        # --------------------------------\n",
    "\n",
    "    else:\n",
    "        print('No {} camera files found'.format(camera))"
   ]
  },
  {
   "cell_type": "code",
   "execution_count": null,
   "id": "36d772d1",
   "metadata": {},
   "outputs": [],
   "source": []
  }
 ],
 "metadata": {
  "kernelspec": {
   "display_name": "Python 3 (ipykernel)",
   "language": "python",
   "name": "python3"
  },
  "language_info": {
   "codemirror_mode": {
    "name": "ipython",
    "version": 3
   },
   "file_extension": ".py",
   "mimetype": "text/x-python",
   "name": "python",
   "nbconvert_exporter": "python",
   "pygments_lexer": "ipython3",
   "version": "3.8.11"
  },
  "varInspector": {
   "cols": {
    "lenName": 16,
    "lenType": 16,
    "lenVar": 40
   },
   "kernels_config": {
    "python": {
     "delete_cmd_postfix": "",
     "delete_cmd_prefix": "del ",
     "library": "var_list.py",
     "varRefreshCmd": "print(var_dic_list())"
    },
    "r": {
     "delete_cmd_postfix": ") ",
     "delete_cmd_prefix": "rm(",
     "library": "var_list.r",
     "varRefreshCmd": "cat(var_dic_list()) "
    }
   },
   "types_to_exclude": [
    "module",
    "function",
    "builtin_function_or_method",
    "instance",
    "_Feature"
   ],
   "window_display": false
  }
 },
 "nbformat": 4,
 "nbformat_minor": 5
}
